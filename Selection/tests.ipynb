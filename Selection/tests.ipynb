{
 "cells": [
  {
   "cell_type": "code",
   "execution_count": 1,
   "metadata": {},
   "outputs": [],
   "source": [
    "import os "
   ]
  },
  {
   "cell_type": "code",
   "execution_count": 6,
   "metadata": {},
   "outputs": [
    {
     "data": {
      "text/plain": [
       "True"
      ]
     },
     "execution_count": 6,
     "metadata": {},
     "output_type": "execute_result"
    }
   ],
   "source": [
    "'a' == 'a'"
   ]
  },
  {
   "cell_type": "code",
   "execution_count": 2,
   "metadata": {},
   "outputs": [
    {
     "data": {
      "text/plain": [
       "['IMG-20230618-WA0027.jpg',\n",
       " 'IMG_20230520_105410_927.webp',\n",
       " 'IMG_20230520_105425_545.webp',\n",
       " 'IMG_20230520_105453_205.webp',\n",
       " 'IMG_20230526_103928.jpg']"
      ]
     },
     "execution_count": 2,
     "metadata": {},
     "output_type": "execute_result"
    }
   ],
   "source": [
    "name = 'date'\n",
    "dirs = r'C:\\Users\\user\\Documents\\Thinklab\\WebServer\\TheGalery\\DataGambar' + f'\\{name}'\n",
    "file = os.listdir(dirs)\n",
    "file[:5]"
   ]
  },
  {
   "cell_type": "code",
   "execution_count": 3,
   "metadata": {},
   "outputs": [
    {
     "data": {
      "text/plain": [
       "(1, 1280, 960, 3)"
      ]
     },
     "execution_count": 3,
     "metadata": {},
     "output_type": "execute_result"
    }
   ],
   "source": [
    "import numpy as np \n",
    "import PIL.Image as im \n",
    "\n",
    "images = im.open(dirs + f'\\{file[0]}')\n",
    "vec = np.array(images)\n",
    "vec = np.expand_dims(vec , 0) / 255.0\n",
    "vec.shape"
   ]
  },
  {
   "cell_type": "code",
   "execution_count": 4,
   "metadata": {},
   "outputs": [
    {
     "name": "stdout",
     "output_type": "stream",
     "text": [
      "tensor(2)\n"
     ]
    },
    {
     "data": {
      "text/plain": [
       "tensor([[0.2423, 0.2511, 0.4073, 0.3063, 0.2930]], grad_fn=<MulBackward0>)"
      ]
     },
     "execution_count": 4,
     "metadata": {},
     "output_type": "execute_result"
    }
   ],
   "source": [
    "from torch import nn\n",
    "from torch import from_numpy\n",
    "from torch.nn import functional as f\n",
    "from torch import device , cuda , float32 , manual_seed , randint\n",
    "manual_seed(123)\n",
    "dev = device('cuda' if cuda.is_available() else 'cpu')\n",
    "vec = np.transpose(vec , (0 , 3 , 1 , 2)) \n",
    "vec = from_numpy(vec)\n",
    "vec_new = f.interpolate(vec , (120 , 120) , mode='bilinear' , align_corners=False).to(dev)\n",
    "vec_new = vec_new.to(float32)\n",
    "print(randint(0 , 5 , (1,))[0])\n",
    "x = nn.BatchNorm2d(3)(vec_new)\n",
    "x = nn.Conv2d(3 ,16 , 3)(x)\n",
    "x = nn.AvgPool2d(3)(x)\n",
    "x = nn.Flatten()(x)\n",
    "x = nn.Dropout(0.1)(x)\n",
    "x = nn.LeakyReLU()(x)\n",
    "x = nn.Linear(1 * 16 * 39 * 39 , 5)(x)\n",
    "x = nn.Softmax(1)(x)\n",
    "x = x * 1.5\n",
    "x "
   ]
  }
 ],
 "metadata": {
  "kernelspec": {
   "display_name": "Python 3",
   "language": "python",
   "name": "python3"
  },
  "language_info": {
   "codemirror_mode": {
    "name": "ipython",
    "version": 3
   },
   "file_extension": ".py",
   "mimetype": "text/x-python",
   "name": "python",
   "nbconvert_exporter": "python",
   "pygments_lexer": "ipython3",
   "version": "3.10.11"
  }
 },
 "nbformat": 4,
 "nbformat_minor": 2
}
